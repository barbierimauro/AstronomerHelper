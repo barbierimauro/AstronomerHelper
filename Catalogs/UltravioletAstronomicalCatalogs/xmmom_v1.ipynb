{
 "cells": [
  {
   "cell_type": "code",
   "execution_count": 42,
   "id": "numerous-dubai",
   "metadata": {},
   "outputs": [],
   "source": [
    "import matplotlib.pyplot as plt\n",
    "import matplotlib as mpl\n",
    "import numpy as np\n",
    "\n",
    "from astropy.table import Table\n",
    "from astropy.coordinates import SkyCoord\n",
    "from astropy import units as u\n",
    "from astropy.samp import SAMPIntegratedClient\n",
    "from astropy.io import fits\n",
    "from astropy.wcs import WCS\n",
    "from astropy.stats import sigma_clipped_stats\n",
    "import astropy.visualization as ap_vis\n",
    "\n",
    "from astroquery.vizier import Vizier\n",
    "from astroquery.xmatch import XMatch\n",
    "from astroquery.simbad import Simbad\n",
    "import ipyaladin as ipyal\n",
    "import pyvo\n",
    "from pyvo import tap as tap\n",
    "\n",
    "import warnings \n",
    "warnings.filterwarnings('ignore')\n",
    "\n",
    "import sys\n"
   ]
  },
  {
   "cell_type": "code",
   "execution_count": 240,
   "id": "brilliant-december",
   "metadata": {},
   "outputs": [
    {
     "name": "stdout",
     "output_type": "stream",
     "text": [
      "23584\n"
     ]
    }
   ],
   "source": [
    "#setup vizier\n",
    "vizier_tap_link='http://TAPVizieR.u-strasbg.fr/TAPVizieR/tap/'\n",
    "tap_vizier=tap.TAPService(vizier_tap_link)\n",
    "\n",
    "\n",
    "#single observations in XMMOM\n",
    "single=0\n",
    "if(single>0):\n",
    "    ricerca_single='''\n",
    "    SELECT top 20\n",
    "    XMMOM, ID, RAJ2000, DEJ2000, ePos, Nobs,\n",
    "    UVW2mAB, UVM2mAB, UVW1mAB, UmAB, BmAB, VmAB,\n",
    "    e_UVW2mAB, e_UVM2mAB, e_UVW1mAB, e_UmAB, e_BmAB, e_VmAB\n",
    "    FROM \\\"II/370/xmmom5s\\\" \n",
    "    WHERE nobs=1\n",
    "    '''\n",
    "    xmmom_single=tap_vizier.search(query=ricerca_single).table\n",
    "\n",
    "#multiple\n",
    "multi=0\n",
    "if(multi>0):\n",
    "    ricerca_multi='''\n",
    "    SELECT top 5000\n",
    "    XMMOM, ID, RAJ2000, DEJ2000, ePos, Nobs,\n",
    "    UVW2mAB, UVM2mAB, UVW1mAB, UmAB, BmAB, VmAB,\n",
    "    e_UVW2mAB, e_UVM2mAB, e_UVW1mAB, e_UmAB, e_BmAB, e_VmAB\n",
    "    FROM \\\"II/370/xmmom5s\\\" \n",
    "    WHERE nobs>1\n",
    "    '''\n",
    "    xmmom_=tap_vizier.search(query=ricerca_multi).table\n",
    "\n",
    "#counts multiple\n",
    "conta=0\n",
    "if(conta>0):\n",
    "    ricerca_multi_count='''\n",
    "    SELECT count(*)\n",
    "    FROM \\\"II/370/xmmom5s\\\" \n",
    "    WHERE nobs>1\n",
    "    '''\n",
    "    xmmom_multi_count=tap_vizier.search(query=ricerca_multi_count).table\n",
    "    print(xmmom_multi_count)\n",
    "\n",
    "#stats\n",
    "stats=0\n",
    "if(stats>0):\n",
    "    ricerca_stats='''\n",
    "    SELECT count(*)\n",
    "    FROM \\\"II/370/xmmom5s\\\" \n",
    "    WHERE UVW2mAB IS NOT NULL \n",
    "    AND   UVM2mAB IS NOT NULL \n",
    "    AND   UVW1mAB IS NOT NULL \n",
    "    AND   UmAB    IS NOT NULL \n",
    "    AND   BmAB    IS NOT NULL \n",
    "    AND   VmAB    IS NOT NULL\n",
    "    AND nobs>1\n",
    "    '''\n",
    "    xmmom_stats=tap_vizier.search(query=ricerca_stats).table\n",
    "    print(xmmom_stats)\n",
    "\n",
    "#only object with all magnitudes observed\n",
    "allmags=1\n",
    "if(allmags>0):\n",
    "    ricerca_allmags='''\n",
    "    SELECT \n",
    "    XMMOM, ID, RAJ2000, DEJ2000, ePos, Nobs,\n",
    "    UVW2mAB, UVM2mAB, UVW1mAB, UmAB, BmAB, VmAB,\n",
    "    e_UVW2mAB, e_UVM2mAB, e_UVW1mAB, e_UmAB, e_BmAB, e_VmAB\n",
    "    FROM \\\"II/370/xmmom5s\\\" \n",
    "    WHERE UVW2mAB IS NOT NULL \n",
    "    AND   UVM2mAB IS NOT NULL \n",
    "    AND   UVW1mAB IS NOT NULL \n",
    "    AND   UmAB    IS NOT NULL \n",
    "    AND   BmAB    IS NOT NULL \n",
    "    AND   VmAB    IS NOT NULL\n",
    "    '''\n",
    "    xmmom_=tap_vizier.search(query=ricerca_allmags).table\n",
    "\n",
    "print(len(xmmom_))"
   ]
  },
  {
   "cell_type": "code",
   "execution_count": 241,
   "id": "polar-platinum",
   "metadata": {},
   "outputs": [],
   "source": [
    "#xmmom_out='/home/mauro/xmmom_multi.csv'\n",
    "#xmmom_multi.write(xmmom_multi) #, format='ascii', overwrite=True)\n",
    "#print(type(xmmom_multi))\n"
   ]
  },
  {
   "cell_type": "code",
   "execution_count": 242,
   "id": "handed-monitor",
   "metadata": {},
   "outputs": [],
   "source": [
    "#xmm_gaia = XMatch.query(\n",
    "#cat1=xmmom_single,\n",
    "#cat2='vizier:I/350/gaiaedr3',\n",
    "#max_distance=1.5 * u.arcsec, \n",
    "#colRA1='RAJ2000', colDec1='DEJ2000')\n"
   ]
  },
  {
   "cell_type": "code",
   "execution_count": 266,
   "id": "commercial-mambo",
   "metadata": {},
   "outputs": [
    {
     "name": "stdout",
     "output_type": "stream",
     "text": [
      "0 0.0\n",
      "1000 4.240162822252374\n",
      "2000 8.480325644504749\n",
      "3000 12.720488466757123\n",
      "4000 16.960651289009498\n",
      "5000 21.200814111261874\n",
      "6000 25.440976933514246\n",
      "7000 29.681139755766623\n",
      "8000 33.921302578018995\n",
      "9000 38.161465400271375\n",
      "10000 42.40162822252375\n",
      "11000 46.64179104477612\n",
      "12000 50.88195386702849\n",
      "13000 55.122116689280865\n",
      "14000 59.362279511533245\n",
      "15000 63.60244233378561\n",
      "16000 67.84260515603799\n",
      "17000 72.08276797829036\n",
      "18000 76.32293080054275\n",
      "19000 80.56309362279511\n",
      "20000 84.8032564450475\n",
      "21000 89.04341926729987\n",
      "22000 93.28358208955224\n",
      "23000 97.52374491180461\n"
     ]
    }
   ],
   "source": [
    "nx=len(xmmom_)\n",
    "nm=6\n",
    "klog=np.log(10)/2.5\n",
    "check=np.zeros(nx)\n",
    "\n",
    "# create a void table with the same structure of xmmom_multi\n",
    "xmmom_reduced = xmmom_[:0].copy()\n",
    "\n",
    "count_unique=0\n",
    "for i in range(nx):\n",
    "    if(i % 1000 ==0):\n",
    "        print(i,i/nx*100)\n",
    "    if(check[i]==1):\n",
    "        continue\n",
    "    oid=xmmom_['ID'][i]\n",
    "    idx=(xmmom_['ID']==oid)\n",
    "    minitab=xmmom_[idx]\n",
    "    ni=len(minitab)\n",
    "    #print(ni,len(minitab))\n",
    "    #print(minitab)\n",
    "    \n",
    "    mags=np.zeros((nm,2))\n",
    "    e_mags=np.zeros((nm))\n",
    "    ne=0\n",
    "    epos=0\n",
    "    count_unique=count_unique+1\n",
    "    for j in range(ni):\n",
    "        check[i+j]=1\n",
    "        #print(minitab[j])\n",
    "        #print(j)\n",
    "        if(np.isfinite(minitab['UVW2mAB'][j])):\n",
    "            mags[0,0]=mags[0,0] +10**(-0.4*minitab['UVW2mAB'][j])\n",
    "            mags[0,1]=mags[0,1] +1\n",
    "            e_mags[0]=e_mags[0] +(10**(-0.4*minitab['UVW2mAB'][j])*minitab['e_UVW2mAB'][j]*klog)**2\n",
    "        if(np.isfinite(minitab['UVM2mAB'][j])):\n",
    "            mags[1,0]=mags[1,0] +10**(-0.4*minitab['UVM2mAB'][j])\n",
    "            mags[1,1]=mags[1,1] +1\n",
    "            e_mags[1]=e_mags[1] +(10**(-0.4*minitab['UVM2mAB'][j])*minitab['e_UVM2mAB'][j]*klog)**2\n",
    "        if(np.isfinite(minitab['UVW1mAB'][j])):\n",
    "            mags[2,0]=mags[2,0] +10**(-0.4*minitab['UVW1mAB'][j])\n",
    "            mags[2,1]=mags[2,1] +1\n",
    "            e_mags[2]=e_mags[2] +(10**(-0.4*minitab['UVW1mAB'][j])*minitab['e_UVW1mAB'][j]*klog)**2\n",
    "        if(np.isfinite(minitab['UmAB'][j])):\n",
    "            mags[3,0]=mags[3,0] +10**(-0.4*minitab['UmAB'][j])\n",
    "            mags[3,1]=mags[3,1] +1\n",
    "            e_mags[3]=e_mags[3] +(10**(-0.4*minitab['UmAB'][j])*minitab['e_UmAB'][j]*klog)**2\n",
    "        if(np.isfinite(minitab['BmAB'][j])):\n",
    "            mags[4,0]=mags[4,0] +10**(-0.4*minitab['BmAB'][j])\n",
    "            mags[4,1]=mags[4,1] +1\n",
    "            e_mags[4]=e_mags[4] +(10**(-0.4*minitab['BmAB'][j])*minitab['e_BmAB'][j]*klog)**2\n",
    "        if(np.isfinite(minitab['VmAB'][j])):\n",
    "            mags[5,0]=mags[5,0] +10**(-0.4*minitab['VmAB'][j])\n",
    "            mags[5,1]=mags[5,1] +1\n",
    "            e_mags[5]=e_mags[5] +(10**(-0.4*minitab['VmAB'][j])*minitab['e_VmAB'][j]*klog)**2\n",
    "        if(np.isfinite(minitab['ePos'][j])):\n",
    "            epos=epos+minitab['ePos'][j]\n",
    "            ne=ne+1\n",
    "            \n",
    "    \n",
    "    for j in range(nm):\n",
    "        if(mags[j,1]>0):\n",
    "            flux=mags[j,0]/mags[j,1]\n",
    "            e_mags[j]=np.sqrt(e_mags[j])/(mags[j,1]*flux*klog)\n",
    "            mags[j,0]=-2.5*np.log10(flux)\n",
    "        else:\n",
    "            e_mags[j]=np.nan\n",
    "            mags[j,0]=np.nan\n",
    "    if(ne>0):\n",
    "        epos=epos/ne\n",
    "    else:\n",
    "        epos=10\n",
    "        \n",
    "    xmmom_reduced.add_row([xmmom_['XMMOM'][i],xmmom_['ID'][i],\n",
    "                                 xmmom_['RAJ2000'][i],xmmom_['DEJ2000'][i],\n",
    "                                 epos,xmmom_['Nobs'][i],\n",
    "                                 mags[0,0],mags[1,0],mags[2,0],mags[3,0],mags[4,0],mags[5,0],\n",
    "                                 e_mags[0],e_mags[1],e_mags[2],e_mags[3],e_mags[4],e_mags[5]\n",
    "                                ])\n",
    "            "
   ]
  },
  {
   "cell_type": "code",
   "execution_count": 268,
   "id": "environmental-calculation",
   "metadata": {},
   "outputs": [
    {
     "name": "stdout",
     "output_type": "stream",
     "text": [
      "13783\n",
      "13783\n"
     ]
    }
   ],
   "source": [
    "print(count_unique)\n",
    "print(len(xmmom_reduced))\n",
    "\n"
   ]
  },
  {
   "cell_type": "code",
   "execution_count": null,
   "id": "peripheral-outdoors",
   "metadata": {},
   "outputs": [],
   "source": []
  },
  {
   "cell_type": "code",
   "execution_count": 269,
   "id": "tamil-polls",
   "metadata": {},
   "outputs": [],
   "source": [
    "xmmom_out='/home/mauro/xmmom_out.csv'\n",
    "xmmom_reduced.write(xmmom_out) #, format='ascii', overwrite=True)\n",
    "#print(type(xmmom_out))"
   ]
  },
  {
   "cell_type": "code",
   "execution_count": 270,
   "id": "current-advertiser",
   "metadata": {},
   "outputs": [
    {
     "name": "stdout",
     "output_type": "stream",
     "text": [
      "9273\n"
     ]
    }
   ],
   "source": [
    "xmm_gaia = XMatch.query(\n",
    "cat1=xmmom_reduced,\n",
    "cat2='vizier:I/350/gaiaedr3',\n",
    "max_distance=1.5 * u.arcsec, \n",
    "colRA1='RAJ2000', colDec1='DEJ2000')\n",
    "\n",
    "print(len(xmm_gaia))"
   ]
  },
  {
   "cell_type": "code",
   "execution_count": 285,
   "id": "minus-functionality",
   "metadata": {},
   "outputs": [
    {
     "data": {
      "image/png": "[encoded data removed]",
      "text/plain": [
       "<Figure size 504x1080 with 1 Axes>"
      ]
     },
     "metadata": {
      "needs_background": "light"
     },
     "output_type": "display_data"
    }
   ],
   "source": [
    "#print(xmm_gaia.columns)\n",
    "\n",
    "uvw2=xmm_gaia['UVW2mAB']\n",
    "uvm2=xmm_gaia['UVM2mAB']\n",
    "uvw1=xmm_gaia['UVW1mAB']\n",
    "u=xmm_gaia['UmAB']\n",
    "b=xmm_gaia['BmAB']\n",
    "v=xmm_gaia['VmAB']\n",
    "bp=xmm_gaia['phot_bp_mean_mag']\n",
    "rp=xmm_gaia['phot_rp_mean_mag']\n",
    "dm=10-5*np.log10(xmm_gaia['parallax'])\n",
    "\n",
    "\n",
    "fig, ax =plt.subplots(figsize=(7,15))\n",
    "ax.plot(bp-rp,-(bp-dm),'.')\n",
    "plt.show()"
   ]
  },
  {
   "cell_type": "code",
   "execution_count": 286,
   "id": "played-pattern",
   "metadata": {},
   "outputs": [],
   "source": [
    "xmm_gaia_out='/home/mauro/xmm_gaia.csv'\n",
    "xmm_gaia.write(xmm_gaia_out) #, format='ascii', overwrite=True)\n"
   ]
  },
  {
   "cell_type": "code",
   "execution_count": null,
   "id": "abandoned-compilation",
   "metadata": {},
   "outputs": [],
   "source": []
  }
 ],
 "metadata": {
  "kernelspec": {
   "display_name": "Python 3",
   "language": "python",
   "name": "python3"
  },
  "language_info": {
   "codemirror_mode": {
    "name": "ipython",
    "version": 3
   },
   "file_extension": ".py",
   "mimetype": "text/x-python",
   "name": "python",
   "nbconvert_exporter": "python",
   "pygments_lexer": "ipython3",
   "version": "3.9.2"
  }
 },
 "nbformat": 4,
 "nbformat_minor": 5
}
